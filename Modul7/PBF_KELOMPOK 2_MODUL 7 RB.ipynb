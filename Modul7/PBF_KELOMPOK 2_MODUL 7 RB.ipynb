{
  "nbformat": 4,
  "nbformat_minor": 0,
  "metadata": {
    "colab": {
      "provenance": []
    },
    "kernelspec": {
      "name": "python3",
      "display_name": "Python 3"
    },
    "language_info": {
      "name": "python"
    }
  },
  "cells": [
    {
      "cell_type": "code",
      "source": [
        "import pandas as pd\n",
        "from functools import reduce\n",
        "\n",
        "# Baca file Excel\n",
        "data = pd.read_csv('/content/911_Calls_for_Service_(Last_30_Days).csv')\n",
        "\n",
        "# Filter baris dengan data yang hilang di kolom Zip atau Neighborhood\n",
        "filtered_data = data.dropna(subset=['zip_code', 'neighborhood'])\n",
        "\n",
        "# Konversi ke dalam bentuk daftar dictionary\n",
        "filtered_dict = filtered_data.to_dict(orient='records')\n",
        "\n",
        "# Filter data untuk kepolisian Detroit\n",
        "detroit_data = filter(lambda x: 'Detroit' in x['neighborhood'], filtered_dict)\n",
        "\n",
        "# Fungsi untuk menghitung total waktu respons, waktu pengiriman, dan total waktu rata-rata\n",
        "def calculate_averages(acc, curr):\n",
        "    acc['total_response_time'] += curr['totalresponsetime']\n",
        "    acc['total_dispatch_time'] += curr['dispatchtime']\n",
        "    acc['total_time_on_scene'] += curr['time_on_scene']\n",
        "    acc['count'] += 1\n",
        "    return acc\n",
        "\n",
        "# Inisialisasi nilai awal\n",
        "initial_values = {'total_response_time': 0, 'total_dispatch_time': 0, 'total_time_on_scene': 0, 'count': 0}\n",
        "\n",
        "# Hitung total waktu respons, waktu pengiriman, dan total waktu rata-rata\n",
        "totals = reduce(calculate_averages, detroit_data, initial_values)\n",
        "\n",
        "# Hitung rata-rata\n",
        "average_response_time = totals['total_response_time'] / totals['count']\n",
        "average_dispatch_time = totals['total_dispatch_time'] / totals['count']\n",
        "average_time_on_scene = totals['total_time_on_scene'] / totals['count']\n"
      ],
      "metadata": {
        "id": "R2Iw7OtF1FvD"
      },
      "execution_count": null,
      "outputs": []
    },
    {
      "cell_type": "code",
      "source": [
        "from functools import reduce\n",
        "\n",
        "# Fungsi untuk menghitung total waktu respons, waktu pengiriman, dan total waktu rata-rata untuk setiap neighborhood\n",
        "def calculate_neighborhood_averages(acc, curr):\n",
        "    neighborhood = curr[0]['neighborhood']\n",
        "    total_response_time = sum(map(lambda x: x['totalresponsetime'], curr))\n",
        "    total_dispatch_time = sum(map(lambda x: x['dispatchtime'], curr))\n",
        "    total_time_on_scene = sum(map(lambda x: x['time_on_scene'], curr))\n",
        "    count = len(curr)\n",
        "\n",
        "    acc.append({\n",
        "        'neighborhood': neighborhood,\n",
        "        'total_response_time': total_response_time,\n",
        "        'total_dispatch_time': total_dispatch_time,\n",
        "        'total_time_on_scene': total_time_on_scene,\n",
        "        'count': count,\n",
        "        'average_response_time': total_response_time / count,\n",
        "        'average_dispatch_time': total_dispatch_time / count,\n",
        "        'average_time_on_scene': total_time_on_scene / count\n",
        "    })\n",
        "    return acc\n",
        "\n",
        "# Bagi list dictionary menjadi list dictionary yang lebih kecil yang dipisahkan oleh neighborhood\n",
        "neighborhood_data = map(lambda neighborhood: list(filter(lambda x: x['neighborhood'] == neighborhood, filtered_dict)), set(map(lambda x: x['neighborhood'], filtered_dict)))\n",
        "\n",
        "# Hitung total waktu respons, waktu pengiriman, dan total waktu rata-rata untuk setiap neighborhood\n",
        "neighborhood_averages = reduce(calculate_neighborhood_averages, neighborhood_data, [])\n",
        "\n",
        "# Tambahkan item dictionary untuk menyertakan data populasi untuk semua Detroit\n",
        "total_detroit_population = {\n",
        "    'neighborhood': 'All Detroit',\n",
        "    'total_response_time': totals['total_response_time'],\n",
        "    'total_dispatch_time': totals['total_dispatch_time'],\n",
        "    'total_time_on_scene': totals['total_time_on_scene'],\n",
        "    'count': totals['count'],\n",
        "    'average_response_time': average_response_time,\n",
        "    'average_dispatch_time': average_dispatch_time,\n",
        "    'average_time_on_scene': average_time_on_scene\n",
        "}\n",
        "neighborhood_averages.append(total_detroit_population)\n"
      ],
      "metadata": {
        "id": "n0J5Qrx4EG7t"
      },
      "execution_count": null,
      "outputs": []
    },
    {
      "cell_type": "code",
      "source": [
        "import json\n",
        "\n",
        "# Tulis data ke dalam file JSON\n",
        "with open('output.json', 'w') as f:\n",
        "    json.dump(neighborhood_averages, f, indent=4)\n"
      ],
      "metadata": {
        "id": "Dh2rg4mw1Spo"
      },
      "execution_count": null,
      "outputs": []
    }
  ]
}
